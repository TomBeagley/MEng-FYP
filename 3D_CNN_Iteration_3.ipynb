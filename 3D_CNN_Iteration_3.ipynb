{
  "cells": [
    {
      "cell_type": "markdown",
      "metadata": {
        "id": "view-in-github",
        "colab_type": "text"
      },
      "source": [
        "<a href=\"https://colab.research.google.com/github/TomBeagley/MEng-FYP/blob/main/3D_CNN_Iteration_3.ipynb\" target=\"_parent\"><img src=\"https://colab.research.google.com/assets/colab-badge.svg\" alt=\"Open In Colab\"/></a>"
      ]
    },
    {
      "cell_type": "markdown",
      "metadata": {
        "id": "e5bf1fca"
      },
      "source": [
        "### Import Libraries"
      ],
      "id": "e5bf1fca"
    },
    {
      "cell_type": "code",
      "execution_count": null,
      "metadata": {
        "id": "b1c94fb3",
        "colab": {
          "base_uri": "https://localhost:8080/",
          "height": 156
        },
        "outputId": "848caa09-03cc-494f-f683-e45a327c6f7b"
      },
      "outputs": [
        {
          "output_type": "stream",
          "name": "stdout",
          "text": [
            "\u001b[?25l     \u001b[90m━━━━━━━━━━━━━━━━━━━━━━━━━━━━━━━━━━━━━━━━\u001b[0m \u001b[32m0.0/2.0 MB\u001b[0m \u001b[31m?\u001b[0m eta \u001b[36m-:--:--\u001b[0m\r\u001b[2K     \u001b[91m━━━━\u001b[0m\u001b[91m╸\u001b[0m\u001b[90m━━━━━━━━━━━━━━━━━━━━━━━━━━━━━━━━━━━\u001b[0m \u001b[32m0.2/2.0 MB\u001b[0m \u001b[31m7.7 MB/s\u001b[0m eta \u001b[36m0:00:01\u001b[0m\r\u001b[2K     \u001b[91m━━━━━━━━━━━━━━━━━━━━━━━━━━━━━━━━━━━━━━━\u001b[0m\u001b[90m╺\u001b[0m \u001b[32m2.0/2.0 MB\u001b[0m \u001b[31m28.4 MB/s\u001b[0m eta \u001b[36m0:00:01\u001b[0m\r\u001b[2K     \u001b[91m━━━━━━━━━━━━━━━━━━━━━━━━━━━━━━━━━━━━━━━\u001b[0m\u001b[91m╸\u001b[0m \u001b[32m2.0/2.0 MB\u001b[0m \u001b[31m27.4 MB/s\u001b[0m eta \u001b[36m0:00:01\u001b[0m\r\u001b[2K     \u001b[91m━━━━━━━━━━━━━━━━━━━━━━━━━━━━━━━━━━━━━━━\u001b[0m\u001b[91m╸\u001b[0m \u001b[32m2.0/2.0 MB\u001b[0m \u001b[31m27.4 MB/s\u001b[0m eta \u001b[36m0:00:01\u001b[0m\r\u001b[2K     \u001b[90m━━━━━━━━━━━━━━━━━━━━━━━━━━━━━━━━━━━━━━━━\u001b[0m \u001b[32m2.0/2.0 MB\u001b[0m \u001b[31m12.8 MB/s\u001b[0m eta \u001b[36m0:00:00\u001b[0m\n",
            "\u001b[?25h  Preparing metadata (setup.py) ... \u001b[?25l\u001b[?25hdone\n",
            "\u001b[2K     \u001b[90m━━━━━━━━━━━━━━━━━━━━━━━━━━━━━━━━━━━━━━━\u001b[0m \u001b[32m184.3/184.3 KB\u001b[0m \u001b[31m9.8 MB/s\u001b[0m eta \u001b[36m0:00:00\u001b[0m\n",
            "\u001b[2K     \u001b[90m━━━━━━━━━━━━━━━━━━━━━━━━━━━━━━━━━━━━━━\u001b[0m \u001b[32m194.8/194.8 KB\u001b[0m \u001b[31m10.8 MB/s\u001b[0m eta \u001b[36m0:00:00\u001b[0m\n",
            "\u001b[2K     \u001b[90m━━━━━━━━━━━━━━━━━━━━━━━━━━━━━━━━━━━━━━━━\u001b[0m \u001b[32m62.7/62.7 KB\u001b[0m \u001b[31m1.1 MB/s\u001b[0m eta \u001b[36m0:00:00\u001b[0m\n",
            "\u001b[?25h  Building wheel for pathtools (setup.py) ... \u001b[?25l\u001b[?25hdone\n"
          ]
        },
        {
          "output_type": "display_data",
          "data": {
            "text/plain": [
              "<IPython.core.display.Javascript object>"
            ],
            "application/javascript": [
              "\n",
              "        window._wandbApiKey = new Promise((resolve, reject) => {\n",
              "            function loadScript(url) {\n",
              "            return new Promise(function(resolve, reject) {\n",
              "                let newScript = document.createElement(\"script\");\n",
              "                newScript.onerror = reject;\n",
              "                newScript.onload = resolve;\n",
              "                document.body.appendChild(newScript);\n",
              "                newScript.src = url;\n",
              "            });\n",
              "            }\n",
              "            loadScript(\"https://cdn.jsdelivr.net/npm/postmate/build/postmate.min.js\").then(() => {\n",
              "            const iframe = document.createElement('iframe')\n",
              "            iframe.style.cssText = \"width:0;height:0;border:none\"\n",
              "            document.body.appendChild(iframe)\n",
              "            const handshake = new Postmate({\n",
              "                container: iframe,\n",
              "                url: 'https://wandb.ai/authorize'\n",
              "            });\n",
              "            const timeout = setTimeout(() => reject(\"Couldn't auto authenticate\"), 5000)\n",
              "            handshake.then(function(child) {\n",
              "                child.on('authorize', data => {\n",
              "                    clearTimeout(timeout)\n",
              "                    resolve(data)\n",
              "                });\n",
              "            });\n",
              "            })\n",
              "        });\n",
              "    "
            ]
          },
          "metadata": {}
        },
        {
          "output_type": "stream",
          "name": "stderr",
          "text": [
            "\u001b[34m\u001b[1mwandb\u001b[0m: Appending key for api.wandb.ai to your netrc file: /root/.netrc\n"
          ]
        }
      ],
      "source": [
        "import os\n",
        "import nibabel as nib\n",
        "import numpy as np\n",
        "import matplotlib.pyplot as plt\n",
        "import pandas as pd\n",
        "\n",
        "import tensorflow as tf\n",
        "from tensorflow import keras\n",
        "from tensorflow.keras import layers, models\n",
        "\n",
        "!pip install wandb -qU\n",
        "import wandb\n",
        "wandb.login() # API key: c8775ed5a47cb717d327538be19f198f1e1b3872\n",
        "\n",
        "from wandb.keras import WandbMetricsLogger, WandbModelCheckpoint"
      ],
      "id": "b1c94fb3"
    },
    {
      "cell_type": "markdown",
      "metadata": {
        "id": "siOW7ucnnQA-"
      },
      "source": [
        "Import all training and validation data"
      ],
      "id": "siOW7ucnnQA-"
    },
    {
      "cell_type": "code",
      "execution_count": null,
      "metadata": {
        "colab": {
          "base_uri": "https://localhost:8080/"
        },
        "id": "iWDa_Rocrhyj",
        "outputId": "23acc905-5f86-42ac-d545-7ffded808403"
      },
      "outputs": [
        {
          "output_type": "stream",
          "name": "stdout",
          "text": [
            "Mounted at /content/gdrive\n"
          ]
        }
      ],
      "source": [
        "from google.colab import drive\n",
        "drive.mount('/content/gdrive')"
      ],
      "id": "iWDa_Rocrhyj"
    },
    {
      "cell_type": "markdown",
      "metadata": {
        "id": "8724ecce"
      },
      "source": [
        "### Create Training data set (images and labels) (all pre-processed in \"pre-processing\" notebook)"
      ],
      "id": "8724ecce"
    },
    {
      "cell_type": "code",
      "execution_count": null,
      "metadata": {
        "colab": {
          "base_uri": "https://localhost:8080/"
        },
        "id": "7bc7713c",
        "outputId": "6c716722-3f45-45dc-da89-544328fd8882"
      },
      "outputs": [
        {
          "output_type": "stream",
          "name": "stdout",
          "text": [
            "['S02.nii', 'S03.nii', 'S04.nii', 'S08.nii', 'S09.nii', 'S10.nii', 'S11.nii', 'S14.nii', 'S15.nii', 'S16.nii', 'S18.nii', 'S19.nii', 'S26.nii', 'S27.nii', 'S28.nii', 'S30.nii', 'S31.nii', 'S33.nii', 'S35.nii', 'S36.nii', 'S37.nii', 'S38.nii', 'S40.nii', 'S42.nii', 'S43.nii', 'S45.nii', 'S46.nii']\n",
            "\n",
            "['S02_labels.csv', 'S03_labels.csv', 'S04_labels.csv', 'S08_labels.csv', 'S09_labels.csv', 'S10_labels.csv', 'S11_labels.csv', 'S14_labels.csv', 'S15_labels.csv', 'S16_labels.csv', 'S18_labels.csv', 'S19_labels.csv', 'S26_labels.csv', 'S27_labels.csv', 'S28_labels.csv', 'S30_labels.csv', 'S31_labels.csv', 'S33_labels.csv', 'S35_labels.csv', 'S36_labels.csv', 'S37_labels.csv', 'S38_labels.csv', 'S40_labels.csv', 'S42_labels.csv', 'S43_labels.csv', 'S45_labels.csv', 'S46_labels.csv']\n"
          ]
        }
      ],
      "source": [
        "#file_path = r\"C:\\Users\\tombe\\OneDrive - University of Bath\\Documents\\YEAR 4\\FYP\\Semester 2\\Data\\labelled data\\labelsTr\"\n",
        "#os.chdir(file_path)\n",
        "os.chdir(\"/content/gdrive/My Drive/FYP Data/labelled data/labelsTr\")\n",
        "\n",
        "all_files = os.listdir()\n",
        "#print(all_files)\n",
        "#print()\n",
        "\n",
        "# get all nifti files (images)\n",
        "nii_files = filter(lambda x: x[-4:] == '.nii', all_files)\n",
        "nii_files = list(nii_files)\n",
        "nii_files = sorted(nii_files)\n",
        "print(nii_files)\n",
        "print()\n",
        "\n",
        "# get all csv files (labels)\n",
        "csv_files = filter(lambda x: x[-4:] == '.csv', all_files)\n",
        "csv_files = list(csv_files)\n",
        "csv_files = sorted(csv_files)\n",
        "print(csv_files)\n",
        "\n",
        "train_images = list()\n",
        "train_labels = list()\n",
        "\n",
        "\n",
        "# read-in each image and its data\n",
        "for item in nii_files:\n",
        "    file_name = item\n",
        "    image = nib.load(file_name)\n",
        "    image_data = image.get_fdata()\n",
        "    train_images.append(image_data)\n",
        "\n",
        "# read-in each data frame of labels\n",
        "for item in csv_files:\n",
        "    file_name = item\n",
        "    df = pd.read_csv(file_name)\n",
        "    train_labels.append(df)"
      ],
      "id": "7bc7713c"
    },
    {
      "cell_type": "markdown",
      "metadata": {
        "id": "q4OeqHfivMQc"
      },
      "source": [
        "Sample label from training dataset"
      ],
      "id": "q4OeqHfivMQc"
    },
    {
      "cell_type": "code",
      "execution_count": null,
      "metadata": {
        "colab": {
          "base_uri": "https://localhost:8080/",
          "height": 81
        },
        "id": "QPYdolDjuwzZ",
        "outputId": "d1837397-c407-45d7-d2b9-3588599de048"
      },
      "outputs": [
        {
          "output_type": "execute_result",
          "data": {
            "text/plain": [
              "   x1  y1  z1  x2  y2  z2  x3  y3  z3\n",
              "0  49  69  31  66  50  37  78  85  35"
            ],
            "text/html": [
              "\n",
              "  <div id=\"df-d52fcc29-5dfc-49bc-9947-8c6fe336d814\">\n",
              "    <div class=\"colab-df-container\">\n",
              "      <div>\n",
              "<style scoped>\n",
              "    .dataframe tbody tr th:only-of-type {\n",
              "        vertical-align: middle;\n",
              "    }\n",
              "\n",
              "    .dataframe tbody tr th {\n",
              "        vertical-align: top;\n",
              "    }\n",
              "\n",
              "    .dataframe thead th {\n",
              "        text-align: right;\n",
              "    }\n",
              "</style>\n",
              "<table border=\"1\" class=\"dataframe\">\n",
              "  <thead>\n",
              "    <tr style=\"text-align: right;\">\n",
              "      <th></th>\n",
              "      <th>x1</th>\n",
              "      <th>y1</th>\n",
              "      <th>z1</th>\n",
              "      <th>x2</th>\n",
              "      <th>y2</th>\n",
              "      <th>z2</th>\n",
              "      <th>x3</th>\n",
              "      <th>y3</th>\n",
              "      <th>z3</th>\n",
              "    </tr>\n",
              "  </thead>\n",
              "  <tbody>\n",
              "    <tr>\n",
              "      <th>0</th>\n",
              "      <td>49</td>\n",
              "      <td>69</td>\n",
              "      <td>31</td>\n",
              "      <td>66</td>\n",
              "      <td>50</td>\n",
              "      <td>37</td>\n",
              "      <td>78</td>\n",
              "      <td>85</td>\n",
              "      <td>35</td>\n",
              "    </tr>\n",
              "  </tbody>\n",
              "</table>\n",
              "</div>\n",
              "      <button class=\"colab-df-convert\" onclick=\"convertToInteractive('df-d52fcc29-5dfc-49bc-9947-8c6fe336d814')\"\n",
              "              title=\"Convert this dataframe to an interactive table.\"\n",
              "              style=\"display:none;\">\n",
              "        \n",
              "  <svg xmlns=\"http://www.w3.org/2000/svg\" height=\"24px\"viewBox=\"0 0 24 24\"\n",
              "       width=\"24px\">\n",
              "    <path d=\"M0 0h24v24H0V0z\" fill=\"none\"/>\n",
              "    <path d=\"M18.56 5.44l.94 2.06.94-2.06 2.06-.94-2.06-.94-.94-2.06-.94 2.06-2.06.94zm-11 1L8.5 8.5l.94-2.06 2.06-.94-2.06-.94L8.5 2.5l-.94 2.06-2.06.94zm10 10l.94 2.06.94-2.06 2.06-.94-2.06-.94-.94-2.06-.94 2.06-2.06.94z\"/><path d=\"M17.41 7.96l-1.37-1.37c-.4-.4-.92-.59-1.43-.59-.52 0-1.04.2-1.43.59L10.3 9.45l-7.72 7.72c-.78.78-.78 2.05 0 2.83L4 21.41c.39.39.9.59 1.41.59.51 0 1.02-.2 1.41-.59l7.78-7.78 2.81-2.81c.8-.78.8-2.07 0-2.86zM5.41 20L4 18.59l7.72-7.72 1.47 1.35L5.41 20z\"/>\n",
              "  </svg>\n",
              "      </button>\n",
              "      \n",
              "  <style>\n",
              "    .colab-df-container {\n",
              "      display:flex;\n",
              "      flex-wrap:wrap;\n",
              "      gap: 12px;\n",
              "    }\n",
              "\n",
              "    .colab-df-convert {\n",
              "      background-color: #E8F0FE;\n",
              "      border: none;\n",
              "      border-radius: 50%;\n",
              "      cursor: pointer;\n",
              "      display: none;\n",
              "      fill: #1967D2;\n",
              "      height: 32px;\n",
              "      padding: 0 0 0 0;\n",
              "      width: 32px;\n",
              "    }\n",
              "\n",
              "    .colab-df-convert:hover {\n",
              "      background-color: #E2EBFA;\n",
              "      box-shadow: 0px 1px 2px rgba(60, 64, 67, 0.3), 0px 1px 3px 1px rgba(60, 64, 67, 0.15);\n",
              "      fill: #174EA6;\n",
              "    }\n",
              "\n",
              "    [theme=dark] .colab-df-convert {\n",
              "      background-color: #3B4455;\n",
              "      fill: #D2E3FC;\n",
              "    }\n",
              "\n",
              "    [theme=dark] .colab-df-convert:hover {\n",
              "      background-color: #434B5C;\n",
              "      box-shadow: 0px 1px 3px 1px rgba(0, 0, 0, 0.15);\n",
              "      filter: drop-shadow(0px 1px 2px rgba(0, 0, 0, 0.3));\n",
              "      fill: #FFFFFF;\n",
              "    }\n",
              "  </style>\n",
              "\n",
              "      <script>\n",
              "        const buttonEl =\n",
              "          document.querySelector('#df-d52fcc29-5dfc-49bc-9947-8c6fe336d814 button.colab-df-convert');\n",
              "        buttonEl.style.display =\n",
              "          google.colab.kernel.accessAllowed ? 'block' : 'none';\n",
              "\n",
              "        async function convertToInteractive(key) {\n",
              "          const element = document.querySelector('#df-d52fcc29-5dfc-49bc-9947-8c6fe336d814');\n",
              "          const dataTable =\n",
              "            await google.colab.kernel.invokeFunction('convertToInteractive',\n",
              "                                                     [key], {});\n",
              "          if (!dataTable) return;\n",
              "\n",
              "          const docLinkHtml = 'Like what you see? Visit the ' +\n",
              "            '<a target=\"_blank\" href=https://colab.research.google.com/notebooks/data_table.ipynb>data table notebook</a>'\n",
              "            + ' to learn more about interactive tables.';\n",
              "          element.innerHTML = '';\n",
              "          dataTable['output_type'] = 'display_data';\n",
              "          await google.colab.output.renderOutput(dataTable, element);\n",
              "          const docLink = document.createElement('div');\n",
              "          docLink.innerHTML = docLinkHtml;\n",
              "          element.appendChild(docLink);\n",
              "        }\n",
              "      </script>\n",
              "    </div>\n",
              "  </div>\n",
              "  "
            ]
          },
          "metadata": {},
          "execution_count": 4
        }
      ],
      "source": [
        "train_labels[0]"
      ],
      "id": "QPYdolDjuwzZ"
    },
    {
      "cell_type": "markdown",
      "metadata": {
        "id": "59afb530"
      },
      "source": [
        "### Create Validation data set (images and labels) (all pre-processed in \"pre-processing\" notebook)"
      ],
      "id": "59afb530"
    },
    {
      "cell_type": "code",
      "execution_count": null,
      "metadata": {
        "colab": {
          "base_uri": "https://localhost:8080/"
        },
        "id": "32b9e49d",
        "outputId": "2ebe218b-f72d-4294-a8bd-cd0ed093ed9a"
      },
      "outputs": [
        {
          "output_type": "stream",
          "name": "stdout",
          "text": [
            "['S01.nii', 'S05.nii', 'S13.nii', 'S17.nii', 'S32.nii', 'S34.nii', 'S41.nii', 'S44.nii']\n",
            "\n",
            "['S01_labels.csv', 'S05_labels.csv', 'S13_labels.csv', 'S17_labels.csv', 'S32_labels.csv', 'S34_labels.csv', 'S41_labels.csv', 'S44_labels.csv']\n"
          ]
        }
      ],
      "source": [
        "#file_path = r\"C:\\Users\\tombe\\OneDrive - University of Bath\\Documents\\YEAR 4\\FYP\\Semester 2\\Data\\labelled data\\labelsVa\"\n",
        "#os.chdir(file_path)\n",
        "os.chdir(\"/content/gdrive/My Drive/FYP Data/labelled data/labelsVa\")\n",
        "\n",
        "all_files = os.listdir()\n",
        "#print(all_files)\n",
        "#print()\n",
        "\n",
        "# get all nifti files (images)\n",
        "nii_files = filter(lambda x: x[-4:] == '.nii', all_files)\n",
        "nii_files = list(nii_files)\n",
        "nii_files = sorted(nii_files)\n",
        "print(nii_files)\n",
        "print()\n",
        "\n",
        "# get all csv files (labels)\n",
        "csv_files = filter(lambda x: x[-4:] == '.csv', all_files)\n",
        "csv_files = list(csv_files)\n",
        "csv_files = sorted(csv_files)\n",
        "print(csv_files)\n",
        "\n",
        "validation_images = list()\n",
        "validation_labels = list()\n",
        "\n",
        "\n",
        "# read-in each image and its data\n",
        "for item in nii_files:\n",
        "    file_name = item\n",
        "    image = nib.load(file_name)\n",
        "    image_data = image.get_fdata()\n",
        "    validation_images.append(image_data)\n",
        "\n",
        "# read-in each data frame of labels\n",
        "for item in csv_files:\n",
        "    file_name = item\n",
        "    df = pd.read_csv(file_name)\n",
        "    validation_labels.append(df)"
      ],
      "id": "32b9e49d"
    },
    {
      "cell_type": "code",
      "execution_count": null,
      "metadata": {
        "colab": {
          "base_uri": "https://localhost:8080/",
          "height": 81
        },
        "id": "747b80ab",
        "outputId": "358f0cad-ae06-494d-d08c-316a101763bb"
      },
      "outputs": [
        {
          "output_type": "execute_result",
          "data": {
            "text/plain": [
              "   x1  y1  z1  x2  y2  z2  x3  y3  z3\n",
              "0  40  69  32  62  48  36  66  81  37"
            ],
            "text/html": [
              "\n",
              "  <div id=\"df-3c5c449e-9d20-4145-bbbb-70192a17dd9b\">\n",
              "    <div class=\"colab-df-container\">\n",
              "      <div>\n",
              "<style scoped>\n",
              "    .dataframe tbody tr th:only-of-type {\n",
              "        vertical-align: middle;\n",
              "    }\n",
              "\n",
              "    .dataframe tbody tr th {\n",
              "        vertical-align: top;\n",
              "    }\n",
              "\n",
              "    .dataframe thead th {\n",
              "        text-align: right;\n",
              "    }\n",
              "</style>\n",
              "<table border=\"1\" class=\"dataframe\">\n",
              "  <thead>\n",
              "    <tr style=\"text-align: right;\">\n",
              "      <th></th>\n",
              "      <th>x1</th>\n",
              "      <th>y1</th>\n",
              "      <th>z1</th>\n",
              "      <th>x2</th>\n",
              "      <th>y2</th>\n",
              "      <th>z2</th>\n",
              "      <th>x3</th>\n",
              "      <th>y3</th>\n",
              "      <th>z3</th>\n",
              "    </tr>\n",
              "  </thead>\n",
              "  <tbody>\n",
              "    <tr>\n",
              "      <th>0</th>\n",
              "      <td>40</td>\n",
              "      <td>69</td>\n",
              "      <td>32</td>\n",
              "      <td>62</td>\n",
              "      <td>48</td>\n",
              "      <td>36</td>\n",
              "      <td>66</td>\n",
              "      <td>81</td>\n",
              "      <td>37</td>\n",
              "    </tr>\n",
              "  </tbody>\n",
              "</table>\n",
              "</div>\n",
              "      <button class=\"colab-df-convert\" onclick=\"convertToInteractive('df-3c5c449e-9d20-4145-bbbb-70192a17dd9b')\"\n",
              "              title=\"Convert this dataframe to an interactive table.\"\n",
              "              style=\"display:none;\">\n",
              "        \n",
              "  <svg xmlns=\"http://www.w3.org/2000/svg\" height=\"24px\"viewBox=\"0 0 24 24\"\n",
              "       width=\"24px\">\n",
              "    <path d=\"M0 0h24v24H0V0z\" fill=\"none\"/>\n",
              "    <path d=\"M18.56 5.44l.94 2.06.94-2.06 2.06-.94-2.06-.94-.94-2.06-.94 2.06-2.06.94zm-11 1L8.5 8.5l.94-2.06 2.06-.94-2.06-.94L8.5 2.5l-.94 2.06-2.06.94zm10 10l.94 2.06.94-2.06 2.06-.94-2.06-.94-.94-2.06-.94 2.06-2.06.94z\"/><path d=\"M17.41 7.96l-1.37-1.37c-.4-.4-.92-.59-1.43-.59-.52 0-1.04.2-1.43.59L10.3 9.45l-7.72 7.72c-.78.78-.78 2.05 0 2.83L4 21.41c.39.39.9.59 1.41.59.51 0 1.02-.2 1.41-.59l7.78-7.78 2.81-2.81c.8-.78.8-2.07 0-2.86zM5.41 20L4 18.59l7.72-7.72 1.47 1.35L5.41 20z\"/>\n",
              "  </svg>\n",
              "      </button>\n",
              "      \n",
              "  <style>\n",
              "    .colab-df-container {\n",
              "      display:flex;\n",
              "      flex-wrap:wrap;\n",
              "      gap: 12px;\n",
              "    }\n",
              "\n",
              "    .colab-df-convert {\n",
              "      background-color: #E8F0FE;\n",
              "      border: none;\n",
              "      border-radius: 50%;\n",
              "      cursor: pointer;\n",
              "      display: none;\n",
              "      fill: #1967D2;\n",
              "      height: 32px;\n",
              "      padding: 0 0 0 0;\n",
              "      width: 32px;\n",
              "    }\n",
              "\n",
              "    .colab-df-convert:hover {\n",
              "      background-color: #E2EBFA;\n",
              "      box-shadow: 0px 1px 2px rgba(60, 64, 67, 0.3), 0px 1px 3px 1px rgba(60, 64, 67, 0.15);\n",
              "      fill: #174EA6;\n",
              "    }\n",
              "\n",
              "    [theme=dark] .colab-df-convert {\n",
              "      background-color: #3B4455;\n",
              "      fill: #D2E3FC;\n",
              "    }\n",
              "\n",
              "    [theme=dark] .colab-df-convert:hover {\n",
              "      background-color: #434B5C;\n",
              "      box-shadow: 0px 1px 3px 1px rgba(0, 0, 0, 0.15);\n",
              "      filter: drop-shadow(0px 1px 2px rgba(0, 0, 0, 0.3));\n",
              "      fill: #FFFFFF;\n",
              "    }\n",
              "  </style>\n",
              "\n",
              "      <script>\n",
              "        const buttonEl =\n",
              "          document.querySelector('#df-3c5c449e-9d20-4145-bbbb-70192a17dd9b button.colab-df-convert');\n",
              "        buttonEl.style.display =\n",
              "          google.colab.kernel.accessAllowed ? 'block' : 'none';\n",
              "\n",
              "        async function convertToInteractive(key) {\n",
              "          const element = document.querySelector('#df-3c5c449e-9d20-4145-bbbb-70192a17dd9b');\n",
              "          const dataTable =\n",
              "            await google.colab.kernel.invokeFunction('convertToInteractive',\n",
              "                                                     [key], {});\n",
              "          if (!dataTable) return;\n",
              "\n",
              "          const docLinkHtml = 'Like what you see? Visit the ' +\n",
              "            '<a target=\"_blank\" href=https://colab.research.google.com/notebooks/data_table.ipynb>data table notebook</a>'\n",
              "            + ' to learn more about interactive tables.';\n",
              "          element.innerHTML = '';\n",
              "          dataTable['output_type'] = 'display_data';\n",
              "          await google.colab.output.renderOutput(dataTable, element);\n",
              "          const docLink = document.createElement('div');\n",
              "          docLink.innerHTML = docLinkHtml;\n",
              "          element.appendChild(docLink);\n",
              "        }\n",
              "      </script>\n",
              "    </div>\n",
              "  </div>\n",
              "  "
            ]
          },
          "metadata": {},
          "execution_count": 6
        }
      ],
      "source": [
        "validation_labels[0]"
      ],
      "id": "747b80ab"
    },
    {
      "cell_type": "markdown",
      "metadata": {
        "id": "3c27dc6d"
      },
      "source": [
        "### View data before putting into model"
      ],
      "id": "3c27dc6d"
    },
    {
      "cell_type": "code",
      "execution_count": null,
      "metadata": {
        "id": "56fff74b"
      },
      "outputs": [],
      "source": [
        "#print(train_images)\n",
        "#print(train_labels)\n",
        "\n",
        "#print(validation_images)\n",
        "#print(validation_labels)\n",
        "\n",
        "#print(test_images)\n",
        "#print(test_labels)"
      ],
      "id": "56fff74b"
    },
    {
      "cell_type": "code",
      "execution_count": null,
      "metadata": {
        "colab": {
          "base_uri": "https://localhost:8080/"
        },
        "id": "f2e2aa8f",
        "outputId": "9ccc0c7f-3a1a-4f7c-836d-e926754941f6"
      },
      "outputs": [
        {
          "output_type": "stream",
          "name": "stdout",
          "text": [
            "(27, 128, 128, 64)\n",
            "(27, 1, 9)\n",
            "(8, 128, 128, 64)\n",
            "(8, 1, 9)\n"
          ]
        }
      ],
      "source": [
        "train_images = tf.stack(train_images)\n",
        "train_labels = np.array(train_labels)\n",
        "train_labels = tf.stack(train_labels)\n",
        "\n",
        "validation_images = tf.stack(validation_images)\n",
        "validation_labels = np.array(validation_labels)\n",
        "validation_labels = tf.stack(validation_labels)\n",
        "\n",
        "#test_images = tf.stack(test_images)\n",
        "#test_labels = tf.stack(test_labels)\n",
        "\n",
        "print(train_images.get_shape())\n",
        "print(train_labels.get_shape())\n",
        "\n",
        "print(validation_images.get_shape())\n",
        "print(validation_labels.get_shape())"
      ],
      "id": "f2e2aa8f"
    },
    {
      "cell_type": "code",
      "source": [
        "from IPython.display import clear_output\n",
        "\n",
        "class PlotLearning(keras.callbacks.Callback):\n",
        "    \"\"\"\n",
        "    Callback to plot the learning curves of the model during training.\n",
        "    \"\"\"\n",
        "    def on_train_begin(self, logs={}):\n",
        "        self.metrics = {}\n",
        "        for metric in logs:\n",
        "            self.metrics[metric] = []\n",
        "            \n",
        "\n",
        "    def on_epoch_end(self, epoch, logs={}):\n",
        "        # Storing metrics\n",
        "        for metric in logs:\n",
        "            if metric in self.metrics:\n",
        "                self.metrics[metric].append(logs.get(metric))\n",
        "            else:\n",
        "                self.metrics[metric] = [logs.get(metric)]\n",
        "        \n",
        "        # Plotting\n",
        "        metrics = [x for x in logs if 'val' not in x]\n",
        "        \n",
        "        f, axs = plt.subplots(1, len(metrics), figsize=(15,5))\n",
        "        clear_output(wait=True)\n",
        "\n",
        "        for i, metric in enumerate(metrics):\n",
        "            axs[i].plot(range(1, epoch + 2), \n",
        "                        self.metrics[metric], \n",
        "                        label=metric)\n",
        "            if logs['val_' + metric]:\n",
        "                axs[i].plot(range(1, epoch + 2), \n",
        "                            self.metrics['val_' + metric], \n",
        "                            label='val_' + metric)\n",
        "                \n",
        "            axs[i].legend()\n",
        "            axs[i].grid()\n",
        "\n",
        "        plt.tight_layout()\n",
        "        plt.show()\n",
        "\n",
        "# ref - https://medium.com/geekculture/how-to-plot-model-loss-while-training-in-tensorflow-9fa1a1875a5 "
      ],
      "metadata": {
        "id": "UxLcnMYchytO"
      },
      "id": "UxLcnMYchytO",
      "execution_count": null,
      "outputs": []
    },
    {
      "cell_type": "code",
      "source": [
        "# Start a run, tracking hyperparameters\n",
        "wandb.init(\n",
        "    # set the wandb project where this run will be logged\n",
        "    project=\"FYP 3D CNN v17\"\n",
        "    )"
      ],
      "metadata": {
        "colab": {
          "base_uri": "https://localhost:8080/",
          "height": 142
        },
        "id": "KkJdDO3MgpB2",
        "outputId": "a510ed32-2ef7-440a-a46e-040819b71075"
      },
      "id": "KkJdDO3MgpB2",
      "execution_count": null,
      "outputs": [
        {
          "output_type": "stream",
          "name": "stderr",
          "text": [
            "\u001b[34m\u001b[1mwandb\u001b[0m: Currently logged in as: \u001b[33mthhb20\u001b[0m (\u001b[33mfyp_masters\u001b[0m). Use \u001b[1m`wandb login --relogin`\u001b[0m to force relogin\n"
          ]
        },
        {
          "output_type": "display_data",
          "data": {
            "text/plain": [
              "<IPython.core.display.HTML object>"
            ],
            "text/html": [
              "Tracking run with wandb version 0.14.0"
            ]
          },
          "metadata": {}
        },
        {
          "output_type": "display_data",
          "data": {
            "text/plain": [
              "<IPython.core.display.HTML object>"
            ],
            "text/html": [
              "Run data is saved locally in <code>/content/gdrive/MyDrive/FYP Data/labelled data/labelsVa/wandb/run-20230331_115901-0uh4my0g</code>"
            ]
          },
          "metadata": {}
        },
        {
          "output_type": "display_data",
          "data": {
            "text/plain": [
              "<IPython.core.display.HTML object>"
            ],
            "text/html": [
              "Syncing run <strong><a href='https://wandb.ai/fyp_masters/FYP%203D%20CNN%20v17/runs/0uh4my0g' target=\"_blank\">vague-galaxy-1</a></strong> to <a href='https://wandb.ai/fyp_masters/FYP%203D%20CNN%20v17' target=\"_blank\">Weights & Biases</a> (<a href='https://wandb.me/run' target=\"_blank\">docs</a>)<br/>"
            ]
          },
          "metadata": {}
        },
        {
          "output_type": "display_data",
          "data": {
            "text/plain": [
              "<IPython.core.display.HTML object>"
            ],
            "text/html": [
              " View project at <a href='https://wandb.ai/fyp_masters/FYP%203D%20CNN%20v17' target=\"_blank\">https://wandb.ai/fyp_masters/FYP%203D%20CNN%20v17</a>"
            ]
          },
          "metadata": {}
        },
        {
          "output_type": "display_data",
          "data": {
            "text/plain": [
              "<IPython.core.display.HTML object>"
            ],
            "text/html": [
              " View run at <a href='https://wandb.ai/fyp_masters/FYP%203D%20CNN%20v17/runs/0uh4my0g' target=\"_blank\">https://wandb.ai/fyp_masters/FYP%203D%20CNN%20v17/runs/0uh4my0g</a>"
            ]
          },
          "metadata": {}
        },
        {
          "output_type": "execute_result",
          "data": {
            "text/html": [
              "<button onClick=\"this.nextSibling.style.display='block';this.style.display='none';\">Display W&B run</button><iframe src='https://wandb.ai/fyp_masters/FYP%203D%20CNN%20v17/runs/0uh4my0g?jupyter=true' style='border:none;width:100%;height:420px;display:none;'></iframe>"
            ],
            "text/plain": [
              "<wandb.sdk.wandb_run.Run at 0x7f673619d730>"
            ]
          },
          "metadata": {},
          "execution_count": 10
        }
      ]
    },
    {
      "cell_type": "markdown",
      "metadata": {
        "id": "098ed28e"
      },
      "source": [
        "### 3D CNN Model\n",
        "CHANGES FROM PREVIOUS VERSION:\n",
        "\n",
        "- gone back to similar architecture to v14 as v15 suffered from overfitting. Swapped a maxpool and conv layer on third block around though for a more satisfying pattern\n",
        "- changed dropout from 0.2 to 0.5 to 0.6 to 0.75 (was still overfitting at 0.5 & 0.6)"
      ],
      "id": "098ed28e"
    },
    {
      "cell_type": "code",
      "execution_count": null,
      "metadata": {
        "id": "73359fa9"
      },
      "outputs": [],
      "source": [
        "# Define the input shape\n",
        "input_shape = (27, 128, 128, 64, 1)\n",
        "\n",
        "# Define the model architecture\n",
        "model = keras.Sequential(\n",
        "    [\n",
        "        # First convolutional layer\n",
        "        layers.Conv3D(32, kernel_size=(3, 3, 3), padding ='Same', activation=\"relu\", input_shape=input_shape[1:]),\n",
        "        layers.MaxPooling3D(pool_size=(2, 2, 2)),\n",
        "        #layers.Conv3D(32, kernel_size=(3, 3, 3), padding ='Same', activation=\"relu\"), # this one\n",
        "        #layers.MaxPooling3D(pool_size=(2, 2, 2)),\n",
        "        layers.BatchNormalization(),\n",
        "\n",
        "        # Second convolutional layer\n",
        "        layers.Conv3D(64, kernel_size=(3, 3, 3), padding ='Same', activation=\"relu\", kernel_regularizer =tf.keras.regularizers.L1L2(l1=0.05, l2=0.05)),\n",
        "        layers.MaxPooling3D(pool_size=(2, 2, 2)),\n",
        "        #layers.Conv3D(64, kernel_size=(3, 3, 3), padding ='Same', activation=\"relu\", kernel_regularizer =tf.keras.regularizers.l2(l=0.01)),\n",
        "        #layers.MaxPooling3D(pool_size=(2, 2, 2)),\n",
        "        layers.BatchNormalization(),\n",
        "\n",
        "        # Third convolutional layer\n",
        "        layers.Conv3D(128, kernel_size=(3, 3, 3), padding ='Same', activation=\"relu\", kernel_regularizer =tf.keras.regularizers.L1L2(l1=0.05, l2=0.05)),\n",
        "        #layers.MaxPooling3D(pool_size=(2, 2, 2)),\n",
        "        layers.Conv3D(128, kernel_size=(3, 3, 3), padding ='Same', activation=\"relu\", kernel_regularizer =tf.keras.regularizers.l2(l=0.01)), #this one\n",
        "        layers.MaxPooling3D(pool_size=(2, 2, 2)),\n",
        "        layers.BatchNormalization(),\n",
        "\n",
        "        # Fourth convolutional layer\n",
        "        layers.Conv3D(256, kernel_size=(3, 3, 3), padding ='Same', activation=\"relu\", kernel_regularizer =tf.keras.regularizers.L1L2(l1=0.05, l2=0.05)),\n",
        "        #layers.MaxPooling3D(pool_size=(2, 2, 2)), # and this one\n",
        "        layers.Conv3D(256, kernel_size=(3, 3, 3), padding ='Same', activation=\"relu\", kernel_regularizer =tf.keras.regularizers.L1L2(l1=0.05, l2=0.05)),\n",
        "        layers.MaxPooling3D(pool_size=(2, 2, 2)),\n",
        "        layers.BatchNormalization(),\n",
        "\n",
        "        # Flatten the output of the convolutional layers\n",
        "        layers.Flatten(),\n",
        "\n",
        "        # First dense layer\n",
        "        layers.Dense(512, activation=\"relu\"),\n",
        "        layers.Dropout(0.75),\n",
        "\n",
        "        # Second dense layer\n",
        "        layers.Dense(256, activation=\"relu\"),\n",
        "        layers.Dropout(0.75),\n",
        "     \n",
        "        # Third dense layer\n",
        "        layers.Dense(128, activation=\"relu\"),\n",
        "        layers.Dropout(0.75),\n",
        "\n",
        "        # Output layer with 9 nodes for the x, y, and z coordinates of each of the 3 pulmonary artery endpoints\n",
        "        layers.Dense(9, activation=\"linear\"),\n",
        "    ]\n",
        ")"
      ],
      "id": "73359fa9"
    },
    {
      "cell_type": "code",
      "execution_count": null,
      "metadata": {
        "id": "ALqgTKW9Qn24"
      },
      "outputs": [],
      "source": [
        "initial_learning_rate = 0.001\n",
        "lr_schedule = keras.optimizers.schedules.ExponentialDecay(\n",
        "    initial_learning_rate,\n",
        "    decay_steps=100000,\n",
        "    decay_rate=0.96,\n",
        "    staircase=True)\n",
        "\n",
        "# Compile the model with the appropriate loss function and optimizer\n",
        "model.compile(\n",
        "    #loss=\"mean_squared_error\",\n",
        "    loss=\"mean_absolute_error\",\n",
        "    optimizer=keras.optimizers.Adam(learning_rate=lr_schedule),\n",
        "    metrics=[\"mean_absolute_error\", \"mean_squared_error\", tf.keras.metrics.RootMeanSquaredError()],\n",
        ")"
      ],
      "id": "ALqgTKW9Qn24"
    },
    {
      "cell_type": "code",
      "execution_count": null,
      "metadata": {
        "id": "EczMHc2PQqbx",
        "colab": {
          "base_uri": "https://localhost:8080/",
          "height": 572
        },
        "outputId": "f3de5561-cb3a-4300-cd3a-ca5d5b5ad89e"
      },
      "outputs": [
        {
          "output_type": "display_data",
          "data": {
            "text/plain": [
              "<Figure size 1500x500 with 4 Axes>"
            ],
            "image/png": "[encoded data removed]"
          },
          "metadata": {}
        },
        {
          "output_type": "stream",
          "name": "stderr",
          "text": [
            "WARNING:absl:Found untraced functions such as _jit_compiled_convolution_op, _jit_compiled_convolution_op, _jit_compiled_convolution_op, _jit_compiled_convolution_op, _jit_compiled_convolution_op while saving (showing 5 of 7). These functions will not be directly callable after loading.\n",
            "\u001b[34m\u001b[1mwandb\u001b[0m: Adding directory to artifact (./models)... Done. 3.4s\n"
          ]
        },
        {
          "output_type": "stream",
          "name": "stdout",
          "text": [
            "\b\b\b\b\b\b\b\b\b\b\b\b\b\b\b\b\b\b\b\b\b\b\b\b\b\b\b\b\b\b\b\b\b\b\b\b\b\b\b\b\b\b\b\b\b\b\b\b\b\b\b\b\b\b\b\b\b\b\b\b\b\b\b\b\b\b\b\b\b\b\b\b\b\b\b\b\b\b\b\b\b\b\b\b\b\b\b\b\b\b\b\b\b\b\b\b\b\b\b\b\b\b\b\b\b\b\b\b\b\b\b\b\b\b\b\b\b\b\b\b\b\b\b\b\b\b\b\b\b\b\b\b\b\b\b\b\b\b\b\b\b\b\b\b\b\b\b\b\b\b\b\b\b\b\b\b\b\b\b\b\r1/1 [==============================] - 322s 322s/step - loss: 84.4437 - mean_absolute_error: 26.2375 - mean_squared_error: 1089.1613 - root_mean_squared_error: 33.0024 - val_loss: 105.6612 - val_mean_absolute_error: 47.8536 - val_mean_squared_error: 2513.6345 - val_root_mean_squared_error: 50.1362\n",
            "Epoch 78/100\n"
          ]
        }
      ],
      "source": [
        "callbacks_list = [PlotLearning(), WandbMetricsLogger(log_freq=\"epoch\"), WandbModelCheckpoint(\"models\")]\n",
        "\n",
        "# Train the model\n",
        "history = model.fit(train_images, train_labels, epochs=100, \n",
        "                    validation_data=(validation_images, validation_labels),\n",
        "                    callbacks=callbacks_list)\n",
        "\n",
        "# Finish the wandb run\n",
        "wandb.finish()"
      ],
      "id": "EczMHc2PQqbx"
    },
    {
      "cell_type": "code",
      "source": [
        "# Test data\n",
        "# Xnew = \n",
        "\n",
        "# Use model to make predictions\n",
        "#ynew = model.predict(Xnew)\n",
        "\n",
        "# show the inputs and predicted outputs\n",
        "#for i in range(len(Xnew)):\n",
        "# print(\"X=%s, Predicted=%s\" % (Xnew[i], ynew[i]))"
      ],
      "metadata": {
        "id": "MqNBI1B_d-sz"
      },
      "id": "MqNBI1B_d-sz",
      "execution_count": null,
      "outputs": []
    },
    {
      "cell_type": "code",
      "source": [],
      "metadata": {
        "id": "VL1gEiav6Pbo"
      },
      "id": "VL1gEiav6Pbo",
      "execution_count": null,
      "outputs": []
    },
    {
      "cell_type": "code",
      "source": [],
      "metadata": {
        "id": "bR33wdMZ4oC8"
      },
      "id": "bR33wdMZ4oC8",
      "execution_count": null,
      "outputs": []
    },
    {
      "cell_type": "markdown",
      "metadata": {
        "id": "f3cf554b"
      },
      "source": [
        "#### Snippets of code that have been tried/taken out/might be useful in future from above model\n",
        "-----\n",
        "\n",
        "##### #Compile model.\n",
        "initial_learning_rate = 0.0001\n",
        "lr_schedule = keras.optimizers.schedules.ExponentialDecay(\n",
        "    initial_learning_rate, decay_steps=100000, decay_rate=0.96, staircase=True\n",
        ")\n",
        "\n",
        "-----\n",
        "\n",
        "history = model.fit(train_images, train_labels, epochs=10, \n",
        "                    validation_data=(test_images, test_labels))\n",
        "\n",
        "-----\n",
        "\n",
        "ax[0].plot(history.history['accuracy'], label='accuracy')\n",
        "ax[0].plot(history.history['val_accuracy'], label = 'val_accuracy')\n",
        "ax[0].set_xlabel('Epoch')\n",
        "ax[0].set_ylabel('Accuracy')\n",
        "ax[0].set_ylim()\n",
        "ax[0].legend(loc='lower right')\n",
        "\n",
        "-----\n",
        "\n",
        "\n",
        "\n"
      ],
      "id": "f3cf554b"
    },
    {
      "cell_type": "code",
      "execution_count": null,
      "metadata": {
        "id": "f2a74165"
      },
      "outputs": [],
      "source": [
        "# Evaluate model\n",
        "fig, ax = plt.subplots(1, 4, figsize=(15, 5), constrained_layout=True)\n",
        "\n",
        "ax[0].plot(history.history['mean_absolute_error'], label='mean_absolute_error')\n",
        "ax[0].plot(history.history['val_mean_absolute_error'], label = 'val_mean_absolute_error')\n",
        "ax[0].set_xlabel('Epoch')\n",
        "ax[0].set_ylabel('Mean Absolute Error')\n",
        "ax[0].set_ylim()\n",
        "ax[0].legend(loc='lower right')\n",
        "\n",
        "ax[1].plot(history.history['mean_squared_error'], label='mean_squared_error')\n",
        "ax[1].plot(history.history['val_mean_squared_error'], label = 'val_mean_squared_error')\n",
        "ax[1].set_xlabel('Epoch')\n",
        "ax[1].set_ylabel('Mean Squared Error')\n",
        "ax[1].set_ylim()\n",
        "ax[1].legend(loc='lower right')\n",
        "\n",
        "ax[2].plot(history.history['root_mean_squared_error'], label='root_mean_squared_error')\n",
        "ax[2].plot(history.history['val_root_mean_squared_error'], label = 'val_root_mean_squared_error')\n",
        "ax[2].set_xlabel('Epoch')\n",
        "ax[2].set_ylabel('Root Mean Squared Error')\n",
        "ax[2].set_ylim()\n",
        "ax[2].legend(loc='lower right')\n",
        "\n",
        "ax[3].plot(history.history['loss'], label='loss')\n",
        "ax[3].plot(history.history['val_loss'], label = 'val_loss')\n",
        "ax[3].set_xlabel('Epoch')\n",
        "ax[3].set_ylabel('Loss')\n",
        "ax[3].set_ylim()\n",
        "ax[3].legend(loc='lower right')"
      ],
      "id": "f2a74165"
    },
    {
      "cell_type": "code",
      "source": [
        "# Print the summary of the model architecture\n",
        "model.summary()"
      ],
      "metadata": {
        "id": "Bx4opBRiklSb"
      },
      "id": "Bx4opBRiklSb",
      "execution_count": null,
      "outputs": []
    },
    {
      "cell_type": "code",
      "execution_count": null,
      "metadata": {
        "id": "TcW7yVoGW1-p"
      },
      "outputs": [],
      "source": [
        "!pip install visualkeras\n",
        "import visualkeras\n",
        "\n",
        "visualkeras.layered_view(model, legend=True).show() # display using your system viewer\n",
        "\n",
        "#visualkeras.layered_view(model, to_file='output.png') # write to disk\n",
        "#visualkeras.layered_view(model, to_file='output.png').show() # write and show"
      ],
      "id": "TcW7yVoGW1-p"
    },
    {
      "cell_type": "code",
      "source": [
        "#font = ImageFont.truetype(\"arial.ttf\", 14)\n",
        "#visualkeras.layered_view(model, legend=True, font=font).show()"
      ],
      "metadata": {
        "id": "TpZ5MdJUw7Bs"
      },
      "id": "TpZ5MdJUw7Bs",
      "execution_count": null,
      "outputs": []
    },
    {
      "cell_type": "markdown",
      "source": [
        "function ClickConnect(){\n",
        "console.log(\"Working\"); \n",
        "document.querySelector(\"colab-toolbar-button#toolbar-add-code\").click() \n",
        "}setInterval(ClickConnect,300000)"
      ],
      "metadata": {
        "id": "9NxpD2bn6vXj"
      },
      "id": "9NxpD2bn6vXj"
    },
    {
      "cell_type": "markdown",
      "source": [
        "lr_schedule = keras.optimizers.schedules.ExponentialDecay(\n",
        "    initial_learning_rate=1e-2,\n",
        "    decay_steps=10000,\n",
        "    decay_rate=0.9)\n",
        "optimizer = keras.optimizers.Adam(learning_rate=lr_schedule)"
      ],
      "metadata": {
        "id": "AU2qxuQYLfXN"
      },
      "id": "AU2qxuQYLfXN"
    },
    {
      "cell_type": "markdown",
      "source": [
        "initial_learning_rate = 0.0001\n",
        "lr_schedule = keras.optimizers.schedules.ExponentialDecay(\n",
        "    initial_learning_rate, decay_steps=100000, decay_rate=0.96, staircase=True"
      ],
      "metadata": {
        "id": "CzBFrit_uT1c"
      },
      "id": "CzBFrit_uT1c"
    },
    {
      "cell_type": "code",
      "source": [
        "#!pip install pillow\n",
        "#from PIL import ImageFont\n",
        "\n",
        "#font = ImageFont.truetype(size=14)\n",
        "#visualkeras.layered_view(model, legend=True, font=font).show()"
      ],
      "metadata": {
        "id": "dxHVVfCKuZes"
      },
      "id": "dxHVVfCKuZes",
      "execution_count": null,
      "outputs": []
    },
    {
      "cell_type": "code",
      "source": [],
      "metadata": {
        "id": "xvQdhpuHo835"
      },
      "id": "xvQdhpuHo835",
      "execution_count": null,
      "outputs": []
    }
  ],
  "metadata": {
    "colab": {
      "provenance": [],
      "include_colab_link": true
    },
    "gpuClass": "standard",
    "kernelspec": {
      "display_name": "Python 3",
      "language": "python",
      "name": "python3"
    },
    "language_info": {
      "codemirror_mode": {
        "name": "ipython",
        "version": 3
      },
      "file_extension": ".py",
      "mimetype": "text/x-python",
      "name": "python",
      "nbconvert_exporter": "python",
      "pygments_lexer": "ipython3",
      "version": "3.8.8"
    }
  },
  "nbformat": 4,
  "nbformat_minor": 5
}